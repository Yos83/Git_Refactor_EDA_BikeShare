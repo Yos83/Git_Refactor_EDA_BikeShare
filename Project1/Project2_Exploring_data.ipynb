{
 "cells": [
  {
   "cell_type": "code",
   "execution_count": 1,
   "metadata": {},
   "outputs": [],
   "source": [
    "#import important Libraries\n",
    "import pandas as pd\n",
    "import numpy as np\n",
    "import matplotlib.pyplot as plt\n",
    "import seaborn as sns\n",
    "%matplotlib inline\n"
   ]
  },
  {
   "cell_type": "code",
   "execution_count": 2,
   "metadata": {},
   "outputs": [],
   "source": [
    "\n",
    "#imposting Chicago city data\n",
    "df = pd.read_csv(\"chicago.csv\")"
   ]
  },
  {
   "cell_type": "code",
   "execution_count": 3,
   "metadata": {},
   "outputs": [
    {
     "name": "stdout",
     "output_type": "stream",
     "text": [
      "   Unnamed: 0           Start Time             End Time  Trip Duration  \\\n",
      "0     1423854  2017-06-23 15:09:32  2017-06-23 15:14:53            321   \n",
      "1      955915  2017-05-25 18:19:03  2017-05-25 18:45:53           1610   \n",
      "2        9031  2017-01-04 08:27:49  2017-01-04 08:34:45            416   \n",
      "3      304487  2017-03-06 13:49:38  2017-03-06 13:55:28            350   \n",
      "4       45207  2017-01-17 14:53:07  2017-01-17 15:02:01            534   \n",
      "\n",
      "                   Start Station                   End Station   User Type  \\\n",
      "0           Wood St & Hubbard St       Damen Ave & Chicago Ave  Subscriber   \n",
      "1            Theater on the Lake  Sheffield Ave & Waveland Ave  Subscriber   \n",
      "2             May St & Taylor St           Wood St & Taylor St  Subscriber   \n",
      "3  Christiana Ave & Lawrence Ave  St. Louis Ave & Balmoral Ave  Subscriber   \n",
      "4         Clark St & Randolph St  Desplaines St & Jackson Blvd  Subscriber   \n",
      "\n",
      "   Gender  Birth Year  \n",
      "0    Male      1992.0  \n",
      "1  Female      1992.0  \n",
      "2    Male      1981.0  \n",
      "3    Male      1986.0  \n",
      "4    Male      1975.0  \n"
     ]
    }
   ],
   "source": [
    "#viewing the first few rows of the dataset\n",
    "print(df.head())  \n"
   ]
  },
  {
   "cell_type": "code",
   "execution_count": 4,
   "metadata": {},
   "outputs": [
    {
     "data": {
      "text/plain": [
       "(300000, 9)"
      ]
     },
     "execution_count": 4,
     "metadata": {},
     "output_type": "execute_result"
    }
   ],
   "source": [
    "#how many rows and columns are there in the dataset?\n",
    "df.shape"
   ]
  },
  {
   "cell_type": "code",
   "execution_count": 5,
   "metadata": {},
   "outputs": [
    {
     "data": {
      "text/plain": [
       "Index(['Unnamed: 0', 'Start Time', 'End Time', 'Trip Duration',\n",
       "       'Start Station', 'End Station', 'User Type', 'Gender', 'Birth Year'],\n",
       "      dtype='object')"
      ]
     },
     "execution_count": 5,
     "metadata": {},
     "output_type": "execute_result"
    }
   ],
   "source": [
    "#Returning column names\n",
    "df.columns"
   ]
  },
  {
   "cell_type": "code",
   "execution_count": 6,
   "metadata": {},
   "outputs": [
    {
     "name": "stdout",
     "output_type": "stream",
     "text": [
      "<class 'pandas.core.frame.DataFrame'>\n",
      "RangeIndex: 300000 entries, 0 to 299999\n",
      "Data columns (total 9 columns):\n",
      " #   Column         Non-Null Count   Dtype  \n",
      "---  ------         --------------   -----  \n",
      " 0   Unnamed: 0     300000 non-null  int64  \n",
      " 1   Start Time     300000 non-null  object \n",
      " 2   End Time       300000 non-null  object \n",
      " 3   Trip Duration  300000 non-null  int64  \n",
      " 4   Start Station  300000 non-null  object \n",
      " 5   End Station    300000 non-null  object \n",
      " 6   User Type      300000 non-null  object \n",
      " 7   Gender         238948 non-null  object \n",
      " 8   Birth Year     238981 non-null  float64\n",
      "dtypes: float64(1), int64(2), object(6)\n",
      "memory usage: 20.6+ MB\n"
     ]
    }
   ],
   "source": [
    "#What are the different types of values in each column in the dataset?\n",
    "df.info()"
   ]
  },
  {
   "cell_type": "code",
   "execution_count": 7,
   "metadata": {},
   "outputs": [],
   "source": [
    "df.rename(columns={'Unnamed: 0': 'Trip_ID','Start Time': 'Start_Time','End Time': 'End_Time','Trip Duration': 'Trip_Duration','Start Station': 'Start_Station', 'End Station': 'End_Station','User Type': 'User_Type', 'Birth Year': 'Birth_Year'},\\\n",
    "          inplace=True)"
   ]
  },
  {
   "cell_type": "code",
   "execution_count": 8,
   "metadata": {},
   "outputs": [
    {
     "name": "stdout",
     "output_type": "stream",
     "text": [
      "<class 'pandas.core.frame.DataFrame'>\n",
      "RangeIndex: 300000 entries, 0 to 299999\n",
      "Data columns (total 9 columns):\n",
      " #   Column         Non-Null Count   Dtype  \n",
      "---  ------         --------------   -----  \n",
      " 0   Trip_ID        300000 non-null  int64  \n",
      " 1   Start_Time     300000 non-null  object \n",
      " 2   End_Time       300000 non-null  object \n",
      " 3   Trip_Duration  300000 non-null  int64  \n",
      " 4   Start_Station  300000 non-null  object \n",
      " 5   End_Station    300000 non-null  object \n",
      " 6   User_Type      300000 non-null  object \n",
      " 7   Gender         238948 non-null  object \n",
      " 8   Birth_Year     238981 non-null  float64\n",
      "dtypes: float64(1), int64(2), object(6)\n",
      "memory usage: 20.6+ MB\n"
     ]
    }
   ],
   "source": [
    "#checking changes\n",
    "df.info()\n"
   ]
  },
  {
   "cell_type": "code",
   "execution_count": 9,
   "metadata": {},
   "outputs": [],
   "source": [
    "# converting some columns that has date to a datetime datatype\n",
    "df['Start_Time'] = pd.to_datetime(df['Start_Time'])\n",
    "df['End_Time'] = pd.to_datetime(df['End_Time'])"
   ]
  },
  {
   "cell_type": "code",
   "execution_count": 10,
   "metadata": {},
   "outputs": [
    {
     "name": "stdout",
     "output_type": "stream",
     "text": [
      "<class 'pandas.core.frame.DataFrame'>\n",
      "RangeIndex: 300000 entries, 0 to 299999\n",
      "Data columns (total 9 columns):\n",
      " #   Column         Non-Null Count   Dtype         \n",
      "---  ------         --------------   -----         \n",
      " 0   Trip_ID        300000 non-null  int64         \n",
      " 1   Start_Time     300000 non-null  datetime64[ns]\n",
      " 2   End_Time       300000 non-null  datetime64[ns]\n",
      " 3   Trip_Duration  300000 non-null  int64         \n",
      " 4   Start_Station  300000 non-null  object        \n",
      " 5   End_Station    300000 non-null  object        \n",
      " 6   User_Type      300000 non-null  object        \n",
      " 7   Gender         238948 non-null  object        \n",
      " 8   Birth_Year     238981 non-null  float64       \n",
      "dtypes: datetime64[ns](2), float64(1), int64(2), object(4)\n",
      "memory usage: 20.6+ MB\n",
      "   Trip_ID          Start_Time            End_Time  Trip_Duration  \\\n",
      "0  1423854 2017-06-23 15:09:32 2017-06-23 15:14:53            321   \n",
      "1   955915 2017-05-25 18:19:03 2017-05-25 18:45:53           1610   \n",
      "2     9031 2017-01-04 08:27:49 2017-01-04 08:34:45            416   \n",
      "3   304487 2017-03-06 13:49:38 2017-03-06 13:55:28            350   \n",
      "4    45207 2017-01-17 14:53:07 2017-01-17 15:02:01            534   \n",
      "\n",
      "                   Start_Station                   End_Station   User_Type  \\\n",
      "0           Wood St & Hubbard St       Damen Ave & Chicago Ave  Subscriber   \n",
      "1            Theater on the Lake  Sheffield Ave & Waveland Ave  Subscriber   \n",
      "2             May St & Taylor St           Wood St & Taylor St  Subscriber   \n",
      "3  Christiana Ave & Lawrence Ave  St. Louis Ave & Balmoral Ave  Subscriber   \n",
      "4         Clark St & Randolph St  Desplaines St & Jackson Blvd  Subscriber   \n",
      "\n",
      "   Gender  Birth_Year  \n",
      "0    Male      1992.0  \n",
      "1  Female      1992.0  \n",
      "2    Male      1981.0  \n",
      "3    Male      1986.0  \n",
      "4    Male      1975.0  \n"
     ]
    }
   ],
   "source": [
    "#checking changes\n",
    "df.info()\n",
    "print(df.head())  "
   ]
  },
  {
   "cell_type": "code",
   "execution_count": null,
   "metadata": {},
   "outputs": [],
   "source": [
    "#a brief description of the data \n",
    "df.describe()"
   ]
  },
  {
   "cell_type": "code",
   "execution_count": 93,
   "metadata": {},
   "outputs": [
    {
     "data": {
      "text/plain": [
       "0"
      ]
     },
     "execution_count": 93,
     "metadata": {},
     "output_type": "execute_result"
    }
   ],
   "source": [
    "#How many duplicates if exist? \n",
    "df.duplicated().sum()"
   ]
  },
  {
   "cell_type": "code",
   "execution_count": 105,
   "metadata": {},
   "outputs": [
    {
     "data": {
      "text/plain": [
       "Trip_ID              0\n",
       "Start_Time           0\n",
       "End_Time             0\n",
       "Trip_Duration        0\n",
       "Start_Station        0\n",
       "End_Station          0\n",
       "User_Type            0\n",
       "Gender           61052\n",
       "Birth_Year       61019\n",
       "dtype: int64"
      ]
     },
     "execution_count": 105,
     "metadata": {},
     "output_type": "execute_result"
    }
   ],
   "source": [
    "#How many missing values if exist?\n",
    "df.isnull().sum()"
   ]
  },
  {
   "cell_type": "code",
   "execution_count": 106,
   "metadata": {},
   "outputs": [
    {
     "data": {
      "text/plain": [
       "Trip_ID          300000\n",
       "Start_Time       292758\n",
       "End_Time         291109\n",
       "Trip_Duration      7157\n",
       "Start_Station       568\n",
       "End_Station         572\n",
       "User_Type             3\n",
       "Gender                2\n",
       "Birth_Year           79\n",
       "dtype: int64"
      ]
     },
     "execution_count": 106,
     "metadata": {},
     "output_type": "execute_result"
    }
   ],
   "source": [
    "# number of non-null unique values for each feature\n",
    "df.nunique()\n"
   ]
  },
  {
   "cell_type": "code",
   "execution_count": 122,
   "metadata": {},
   "outputs": [
    {
     "name": "stdout",
     "output_type": "stream",
     "text": [
      "0         False\n",
      "1         False\n",
      "2         False\n",
      "3         False\n",
      "4         False\n",
      "          ...  \n",
      "299995    False\n",
      "299996     True\n",
      "299997    False\n",
      "299998     True\n",
      "299999    False\n",
      "Name: Gender, Length: 300000, dtype: bool\n"
     ]
    }
   ],
   "source": [
    "check_nan_in_df=df['Gender'].isnull()\n",
    "print (check_nan_in_df)"
   ]
  },
  {
   "cell_type": "code",
   "execution_count": 11,
   "metadata": {},
   "outputs": [
    {
     "name": "stdout",
     "output_type": "stream",
     "text": [
      "<class 'pandas.core.frame.DataFrame'>\n",
      "RangeIndex: 300000 entries, 0 to 299999\n",
      "Data columns (total 9 columns):\n",
      " #   Column         Non-Null Count   Dtype         \n",
      "---  ------         --------------   -----         \n",
      " 0   Trip_ID        300000 non-null  int64         \n",
      " 1   Start_Time     300000 non-null  datetime64[ns]\n",
      " 2   End_Time       300000 non-null  datetime64[ns]\n",
      " 3   Trip_Duration  300000 non-null  int64         \n",
      " 4   Start_Station  300000 non-null  object        \n",
      " 5   End_Station    300000 non-null  object        \n",
      " 6   User_Type      300000 non-null  object        \n",
      " 7   Gender         238948 non-null  object        \n",
      " 8   Birth_Year     238981 non-null  float64       \n",
      "dtypes: datetime64[ns](2), float64(1), int64(2), object(4)\n",
      "memory usage: 20.6+ MB\n"
     ]
    }
   ],
   "source": [
    "#checking changes\n",
    "df.info()"
   ]
  },
  {
   "cell_type": "code",
   "execution_count": 120,
   "metadata": {},
   "outputs": [
    {
     "data": {
      "text/plain": [
       "Subscriber    238889\n",
       "Customer       61110\n",
       "Dependent          1\n",
       "Name: User_Type, dtype: int64"
      ]
     },
     "execution_count": 120,
     "metadata": {},
     "output_type": "execute_result"
    }
   ],
   "source": [
    "df['User_Type'].value_counts()"
   ]
  },
  {
   "cell_type": "code",
   "execution_count": 98,
   "metadata": {},
   "outputs": [
    {
     "data": {
      "text/plain": [
       "array(['Subscriber', 'Customer', 'Dependent'], dtype=object)"
      ]
     },
     "execution_count": 98,
     "metadata": {},
     "output_type": "execute_result"
    }
   ],
   "source": [
    "df['User_Type'].unique()"
   ]
  },
  {
   "cell_type": "code",
   "execution_count": 99,
   "metadata": {},
   "outputs": [
    {
     "data": {
      "image/png": "[encoded data removed]",
      "text/plain": [
       "<Figure size 600x500 with 1 Axes>"
      ]
     },
     "metadata": {},
     "output_type": "display_data"
    }
   ],
   "source": [
    "data_by_usertype = df.User_Type.value_counts()\n",
    "plt.figure(figsize=(6,5))\n",
    "plt.xlabel('Bicycle User Types')\n",
    "plt.ylabel('Number of Users')\n",
    "sns.barplot( x= data_by_usertype.index,y=data_by_usertype).set_title(\"Count of Usertype\");"
   ]
  },
  {
   "cell_type": "code",
   "execution_count": null,
   "metadata": {},
   "outputs": [],
   "source": [
    "# find the most common hour (from 0 to 23)\n",
    "popular_hour = df['User_Type'].unique()"
   ]
  },
  {
   "cell_type": "code",
   "execution_count": 102,
   "metadata": {},
   "outputs": [
    {
     "data": {
      "image/png": "[encoded data removed]",
      "text/plain": [
       "<Figure size 1000x500 with 1 Axes>"
      ]
     },
     "metadata": {},
     "output_type": "display_data"
    }
   ],
   "source": [
    "data_by_gender= df.Gender.value_counts()\n",
    "plt.figure(figsize= (10,5))\n",
    "plt.title(\"Bicycle rider's Detail\", fontsize =15)\n",
    "plt.pie(data_by_gender,labels =data_by_gender.index ,autopct = \"%0.2f%%\");"
   ]
  },
  {
   "cell_type": "code",
   "execution_count": 17,
   "metadata": {},
   "outputs": [],
   "source": [
    "df['Year'] = df['Start_Time'].dt.year "
   ]
  },
  {
   "cell_type": "code",
   "execution_count": 24,
   "metadata": {},
   "outputs": [
    {
     "name": "stdout",
     "output_type": "stream",
     "text": [
      "Most Common Day of the Week: \n",
      " 2017\n"
     ]
    }
   ],
   "source": [
    "popular_year= df['Year'].mode()[0]\n",
    "print('Most Common year: \\n', popular_year)"
   ]
  },
  {
   "cell_type": "code",
   "execution_count": 30,
   "metadata": {},
   "outputs": [
    {
     "name": "stdout",
     "output_type": "stream",
     "text": [
      "Most Common month: \n",
      " 6\n"
     ]
    }
   ],
   "source": [
    "df['month'] = df['Start_Time'].dt.month\n",
    "popular_month= df['month'].mode()[0]\n",
    "print('Most Common month: \\n', popular_month)"
   ]
  },
  {
   "cell_type": "code",
   "execution_count": 58,
   "metadata": {},
   "outputs": [
    {
     "name": "stdout",
     "output_type": "stream",
     "text": [
      "Most Common Month: \n",
      " June\n"
     ]
    }
   ],
   "source": [
    "if popular_month == 1:\n",
    "        popular_month = \"January\"\n",
    "elif popular_month == 2:\n",
    "        popular_month = \"February\"\n",
    "elif popular_month == 3:\n",
    "        popular_month = \"March\"\n",
    "elif popular_month == 4:\n",
    "        popular_month = \"April\"\n",
    "elif popular_month == 5:\n",
    "        popular_month = \"May\"\n",
    "elif popular_month == 6:\n",
    "        popular_month = \"June\"\n",
    "print('Most Common Month: \\n', popular_month)"
   ]
  },
  {
   "cell_type": "code",
   "execution_count": 40,
   "metadata": {},
   "outputs": [
    {
     "name": "stdout",
     "output_type": "stream",
     "text": [
      "Most Common hour: \n",
      " 17\n"
     ]
    }
   ],
   "source": [
    "df['hour'] = df['Start_Time'].dt.hour\n",
    "popular_hour= df['hour'].mode()[0]\n",
    "print('Most Common hour: \\n', popular_hour)"
   ]
  },
  {
   "cell_type": "code",
   "execution_count": 66,
   "metadata": {},
   "outputs": [
    {
     "name": "stdout",
     "output_type": "stream",
     "text": [
      "Most Common Start Hour: \n",
      " 5  PM\n"
     ]
    }
   ],
   "source": [
    "if popular_hour < 12:\n",
    "        print('Most Common Start Hour: \\n', popular_hour, ' AM')\n",
    "elif popular_hour >= 12:\n",
    "        if popular_hour > 12:\n",
    "            popular_hour -= 12\n",
    "        print('Most Common Start Hour: \\n', popular_hour, ' PM')\n",
    "    "
   ]
  },
  {
   "cell_type": "code",
   "execution_count": 74,
   "metadata": {},
   "outputs": [
    {
     "name": "stdout",
     "output_type": "stream",
     "text": [
      "Most Commonly used start station: Streeter Dr & Grand Ave\n"
     ]
    }
   ],
   "source": [
    " Start_Station = df['Start_Station'].value_counts().idxmax()\n",
    "print('Most Commonly used start station:', Start_Station)"
   ]
  },
  {
   "cell_type": "code",
   "execution_count": 82,
   "metadata": {},
   "outputs": [
    {
     "data": {
      "text/plain": [
       "280871787"
      ]
     },
     "execution_count": 82,
     "metadata": {},
     "output_type": "execute_result"
    }
   ],
   "source": [
    "total_duration = df['Trip_Duration'].sum()\n",
    "total_duration"
   ]
  },
  {
   "cell_type": "code",
   "execution_count": 85,
   "metadata": {},
   "outputs": [
    {
     "data": {
      "text/plain": [
       "(4681196, 27)"
      ]
     },
     "execution_count": 85,
     "metadata": {},
     "output_type": "execute_result"
    }
   ],
   "source": [
    "minute, second = divmod(total_duration, 60)\n",
    "minute, second"
   ]
  },
  {
   "cell_type": "code",
   "execution_count": null,
   "metadata": {},
   "outputs": [],
   "source": []
  }
 ],
 "metadata": {
  "kernelspec": {
   "display_name": "Python 3 (ipykernel)",
   "language": "python",
   "name": "python3"
  },
  "language_info": {
   "codemirror_mode": {
    "name": "ipython",
    "version": 3
   },
   "file_extension": ".py",
   "mimetype": "text/x-python",
   "name": "python",
   "nbconvert_exporter": "python",
   "pygments_lexer": "ipython3",
   "version": "3.10.11"
  }
 },
 "nbformat": 4,
 "nbformat_minor": 4
}
